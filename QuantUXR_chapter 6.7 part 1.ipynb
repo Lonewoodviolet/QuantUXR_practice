{
 "cells": [
  {
   "cell_type": "markdown",
   "id": "9f766b9c",
   "metadata": {},
   "source": [
    "## QuantUXR practice - chapter 6.7\n",
    "\n",
    "Programming practice part 1\\\n",
    "Ada Kim\\\n",
    "04.30.2024"
   ]
  },
  {
   "cell_type": "code",
   "execution_count": 173,
   "id": "8bf099a8",
   "metadata": {},
   "outputs": [],
   "source": [
    "# import basics\n",
    "\n",
    "import pandas as pd\n",
    "import numpy as np\n",
    "import matplotlib.pyplot as plt\n",
    "import random \n",
    "import string"
   ]
  },
  {
   "cell_type": "code",
   "execution_count": 57,
   "id": "c9ce0823",
   "metadata": {},
   "outputs": [],
   "source": [
    "# create a dictionary for matching inputs to NATO alphabets\n",
    "\n",
    "nato_dict = {\n",
    "    'a': 'Alpha', 'A': 'Alpha', 'b': 'Bravo', 'B': 'Bravo',\n",
    "    'c': 'Charlie', 'C': 'Charlie', 'd': 'Delta', 'D': 'Delta',\n",
    "    'e': 'Echo', 'E': 'Echo', 'f': 'Foxtrot', 'F': 'Foxtrot',\n",
    "    'g': 'Golf', 'G': 'Golf', 'h': 'Hotel', 'H': 'Hotel',\n",
    "    'i': 'India', 'I': 'India', 'j': 'Juliet', 'J': 'Juliet',\n",
    "    'k': 'Kilo', 'K': 'Kilo', 'l': 'Lima', 'L': 'Lima',\n",
    "    'm': 'Mike', 'M': 'Mike', 'n': 'November', 'N': 'November',\n",
    "    'o': 'Oscar', 'O': 'Oscar', 'p': 'Papa', 'P': 'Papa',\n",
    "    'q': 'Quebec', 'Q': 'Quebec', 'r': 'Romeo', 'R': 'Romeo',\n",
    "    's': 'Sierra', 'S': 'Sierra', 't': 'Tango', 'T': 'Tango',\n",
    "    'u': 'Uniform', 'U': 'Uniform', 'v': 'Victor', 'V': 'Victor',\n",
    "    'w': 'Whiskey', 'W': 'Whiskey', 'x': 'X-ray', 'X': 'X-ray',\n",
    "    'y': 'Yankee', 'Y': 'Yankee', 'z': 'Zulu', 'Z': 'Zulu',\n",
    "    '1': 'One', '2': 'Two', '3': 'Three', '4': 'Four',\n",
    "    '5': 'Five', '6': 'Six', '7': 'Seven', '8': 'Eight',\n",
    "    '9': 'Nine', '0': 'Zero'\n",
    "}"
   ]
  },
  {
   "cell_type": "code",
   "execution_count": 212,
   "id": "266f740e",
   "metadata": {},
   "outputs": [],
   "source": [
    "# function 1\n",
    "\n",
    "def NATO(license):\n",
    "    outputs = [] # create an empty list\n",
    "    if type(license) == str:\n",
    "        license = license.replace(\" \",\"\") #make the input space-robust\n",
    "        if license.isalnum() == True:\n",
    "            for characters in license: \n",
    "                output = nato_dict[characters] # get a value from the dictionary one at a time \n",
    "                outputs.append(output) # add the value in the list\n",
    "            print(outputs)\n",
    "        else:\n",
    "            print('Oops, there are non-alphanumeric chracters in your string!')\n",
    "    elif type(license) != str: \n",
    "        print('Oops, please put a string! for example, you can type \"ADA123\" instead of ADA123.')"
   ]
  },
  {
   "cell_type": "code",
   "execution_count": 189,
   "id": "c48727c8",
   "metadata": {},
   "outputs": [
    {
     "name": "stdout",
     "output_type": "stream",
     "text": [
      "['Alpha', 'Delta', 'Alpha', 'One', 'Two', 'Three']\n"
     ]
    }
   ],
   "source": [
    "# test1\n",
    "NATO('ADA123')"
   ]
  },
  {
   "cell_type": "code",
   "execution_count": 79,
   "id": "35d64c39",
   "metadata": {},
   "outputs": [
    {
     "name": "stdout",
     "output_type": "stream",
     "text": [
      "Oops, please put a string! for example, you can type \"ADA123\" instead of ADA123.\n"
     ]
    }
   ],
   "source": [
    "# test2\n",
    "NATO(123)"
   ]
  },
  {
   "cell_type": "code",
   "execution_count": 187,
   "id": "037fac5a",
   "metadata": {},
   "outputs": [
    {
     "name": "stdout",
     "output_type": "stream",
     "text": [
      "Oops, there are non-alphanumeric chracters in your string!\n"
     ]
    }
   ],
   "source": [
    "# test3\n",
    "NATO('QU@NT1')"
   ]
  },
  {
   "cell_type": "code",
   "execution_count": 208,
   "id": "643a2965",
   "metadata": {},
   "outputs": [
    {
     "name": "stdout",
     "output_type": "stream",
     "text": [
      "['Quebec', 'Uniform', 'Alpha', 'November', 'Tango', 'One']\n"
     ]
    }
   ],
   "source": [
    "# test4\n",
    "NATO('QUANT 1')"
   ]
  },
  {
   "cell_type": "code",
   "execution_count": 213,
   "id": "6842ce37",
   "metadata": {},
   "outputs": [
    {
     "name": "stdout",
     "output_type": "stream",
     "text": [
      "Oops, please put a string! for example, you can type \"ADA123\" instead of ADA123.\n"
     ]
    }
   ],
   "source": [
    "# test5\n",
    "NATO(None)"
   ]
  },
  {
   "cell_type": "code",
   "execution_count": 209,
   "id": "966de7ce",
   "metadata": {},
   "outputs": [],
   "source": [
    "# function 2\n",
    "\n",
    "# define the character set (alphanumeric)\n",
    "char_set = string.ascii_letters.upper() + string.digits # uppercase only\n",
    "   \n",
    "def license_generator(iteration):\n",
    "    \n",
    "    if type(iteration) == int:\n",
    "\n",
    "        for _ in range(iteration):\n",
    "    \n",
    "            # generate a random string between 4 and 8 characters\n",
    "            char_length = random.randint(4,8)\n",
    "            random_license = ''.join(random.choice(char_set) for _ in range(char_length))\n",
    "           \n",
    "            # create an empty list here to reset it whenever each random license is generated\n",
    "            # otherwise, all NATO outputs will be accumulated in one big list\n",
    "            outputs = [] \n",
    "            \n",
    "                # transform random strings into NATO strings\n",
    "            if license.isalnum() == True:\n",
    "                for characters in license: \n",
    "                    output = nato_dict[characters] # get a value from the dictionary one at a time \n",
    "                    outputs.append(output) # add the value in the list\n",
    "                print(random_license, ':', outputs)\n",
    "            else:\n",
    "                print('Oops, there are non-alphanumeric chracters in your string!')\n",
    "    elif type(iteration) != int: \n",
    "        print('Oops, please put an integer!')"
   ]
  },
  {
   "cell_type": "code",
   "execution_count": 163,
   "id": "8faf5b19",
   "metadata": {},
   "outputs": [
    {
     "name": "stdout",
     "output_type": "stream",
     "text": [
      "ML7AZQ5 : ['Mike', 'Lima', 'Seven', 'Alpha', 'Zulu', 'Quebec', 'Five']\n",
      "IBD09D7 : ['India', 'Bravo', 'Delta', 'Zero', 'Nine', 'Delta', 'Seven']\n",
      "X0LHEFF : ['X-ray', 'Zero', 'Lima', 'Hotel', 'Echo', 'Foxtrot', 'Foxtrot']\n",
      "2DQFU9 : ['Two', 'Delta', 'Quebec', 'Foxtrot', 'Uniform', 'Nine']\n",
      "70BWR : ['Seven', 'Zero', 'Bravo', 'Whiskey', 'Romeo']\n",
      "UVGAZO : ['Uniform', 'Victor', 'Golf', 'Alpha', 'Zulu', 'Oscar']\n",
      "PLYRJXHY : ['Papa', 'Lima', 'Yankee', 'Romeo', 'Juliet', 'X-ray', 'Hotel', 'Yankee']\n",
      "P4MZ : ['Papa', 'Four', 'Mike', 'Zulu']\n",
      "VKGXEYAU : ['Victor', 'Kilo', 'Golf', 'X-ray', 'Echo', 'Yankee', 'Alpha', 'Uniform']\n",
      "M3YRT : ['Mike', 'Three', 'Yankee', 'Romeo', 'Tango']\n"
     ]
    }
   ],
   "source": [
    "# test1\n",
    "license_generator(10)"
   ]
  },
  {
   "cell_type": "code",
   "execution_count": 161,
   "id": "01cedc7a",
   "metadata": {},
   "outputs": [
    {
     "name": "stdout",
     "output_type": "stream",
     "text": [
      "Oops, please put an integer!\n"
     ]
    }
   ],
   "source": [
    "# test2\n",
    "license_generator('ADA123')"
   ]
  },
  {
   "cell_type": "code",
   "execution_count": 210,
   "id": "5b79d8e0",
   "metadata": {},
   "outputs": [
    {
     "name": "stdout",
     "output_type": "stream",
     "text": [
      "Oops, please put an integer!\n"
     ]
    }
   ],
   "source": [
    "license_generator(None)"
   ]
  },
  {
   "cell_type": "code",
   "execution_count": null,
   "id": "fa30551a",
   "metadata": {},
   "outputs": [],
   "source": []
  }
 ],
 "metadata": {
  "kernelspec": {
   "display_name": "Python 3 (ipykernel)",
   "language": "python",
   "name": "python3"
  },
  "language_info": {
   "codemirror_mode": {
    "name": "ipython",
    "version": 3
   },
   "file_extension": ".py",
   "mimetype": "text/x-python",
   "name": "python",
   "nbconvert_exporter": "python",
   "pygments_lexer": "ipython3",
   "version": "3.11.3"
  }
 },
 "nbformat": 4,
 "nbformat_minor": 5
}
