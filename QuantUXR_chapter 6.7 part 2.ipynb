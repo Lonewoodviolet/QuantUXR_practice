{
 "cells": [
  {
   "cell_type": "markdown",
   "id": "cebb726a",
   "metadata": {},
   "source": [
    "## QuantUXR practice - chapter 6.7\n",
    "\n",
    "Programming practice part 2\\\n",
    "Ada Kim\\\n",
    "05.06.2024"
   ]
  },
  {
   "cell_type": "code",
   "execution_count": 34,
   "id": "883254fa",
   "metadata": {},
   "outputs": [],
   "source": [
    "# import basics\n",
    "\n",
    "import pandas as pd\n",
    "import numpy as np\n",
    "import matplotlib.pyplot as plt\n",
    "import random \n",
    "import string"
   ]
  },
  {
   "cell_type": "code",
   "execution_count": 66,
   "id": "6a613f21",
   "metadata": {},
   "outputs": [],
   "source": [
    "# pre-requisite: a preparation of sample .txt files \n",
    "\n",
    "with open('sample1.txt', 'w') as file1,\\\n",
    "     open('sample2.txt', 'w') as file2:\n",
    "    file1.write(\"Apple\\n\")\n",
    "    file1.write(\"Boy\\n\")\n",
    "    file1.write(\"Cat\\n\")\n",
    "    file1.write(\"# sharp\\n\")\n",
    "    file1.write(\"Dog\\n\")\n",
    "    file1.write(\"Egg\\n\")\n",
    "    file1.write(\"Fruit\\n\")\n",
    "    file1.write(\"Grain\\n\")\n",
    "    file1.write(\"Ham\\n\")\n",
    "    file1.write(\"Ink\\n\")\n",
    "    file1.write(\"Jug\\n\")\n",
    "    \n",
    "    file2.write(\"Amber\\n\")\n",
    "    file2.write(\"Bread\\n\")\n",
    "    file2.write(\"Coffee\\n\")\n",
    "    file2.write(\"Diet\\n\")\n",
    "    file2.write(\"Edam\\n\")\n",
    "    file2.write(\"Flower\\n\")\n",
    "    file2.write(\"Goat\\n\")\n",
    "    file2.write(\"Hood\\n\")\n",
    "    file2.write(\"Inn\\n\")\n",
    "    file2.write(\"Juice\\n\")"
   ]
  },
  {
   "cell_type": "code",
   "execution_count": 22,
   "id": "142c905b",
   "metadata": {},
   "outputs": [],
   "source": [
    "# Pre-test\n",
    "\n",
    "# It should open two .txt files and save both contents under each separate name\n",
    "# The function should receive file name as a form of text\n",
    "\n",
    "def CombineFiles(name1, name2):\n",
    "    if type(name1) and type(name2) == str:\n",
    "        with open(name1,'r') as file1,\\\n",
    "             open(name2,'r') as file2:\n",
    "            contents1 = file1.read()\n",
    "            contents2 = file2.read()\n",
    "            print(contents1)\n",
    "            print(contents2)\n",
    "    elif type(name1) or type(name2) != str:\n",
    "        print('File names should be in a form of string including extension. For example, \"sample1.txt\".')"
   ]
  },
  {
   "cell_type": "code",
   "execution_count": 69,
   "id": "feb2c191",
   "metadata": {
    "scrolled": true
   },
   "outputs": [
    {
     "name": "stdout",
     "output_type": "stream",
     "text": [
      "the combined file was generated and named results.txt.\n"
     ]
    }
   ],
   "source": [
    "CombineFiles('sample1.txt','sample2.txt')"
   ]
  },
  {
   "cell_type": "code",
   "execution_count": 7,
   "id": "78eaaa15",
   "metadata": {
    "scrolled": true
   },
   "outputs": [
    {
     "name": "stdout",
     "output_type": "stream",
     "text": [
      "File names should be in a form of string including extension. For example, \"sample1.txt\".\n"
     ]
    }
   ],
   "source": [
    "CombineFiles(1,2)"
   ]
  },
  {
   "cell_type": "code",
   "execution_count": 125,
   "id": "988c1ed7",
   "metadata": {},
   "outputs": [],
   "source": [
    "# Part 1 & 2\n",
    "\n",
    "# adds one line of one content to an empty list (keep the line break)\n",
    "# Repeat it until lines end up in both contents \n",
    "# Save the fully filled list into a form of .txt file \n",
    "\n",
    "def CombineFiles(name1, name2):\n",
    "    if type(name1) and type(name2) == str:\n",
    "        with open(name1,'r') as file1,\\\n",
    "             open(name2,'r') as file2:\n",
    "            \n",
    "            words = [] \n",
    "            for line1, line2 in zip(file1, file2): #using zip commend to take turns\n",
    "                if line1[0] and line2[0] == '#': #ignore word starting with # and simply copy it on the output\n",
    "                    words.append()\n",
    "                else:\n",
    "                    words.append(line1)\n",
    "                    words.append(line2)\n",
    "                            \n",
    "        with open('results.txt','w') as results:\n",
    "            for word in words:\n",
    "                results.write(word)\n",
    "            print('The combined file was generated and named results.txt.')\n",
    "\n",
    "    elif type(name1) or type(name2) != str:\n",
    "        print('File names should be in a form of string including extension. For example, \"sample1.txt\".')"
   ]
  },
  {
   "cell_type": "code",
   "execution_count": 126,
   "id": "afe7c94c",
   "metadata": {},
   "outputs": [
    {
     "name": "stdout",
     "output_type": "stream",
     "text": [
      "The combined file was generated and named results.txt.\n"
     ]
    }
   ],
   "source": [
    "CombineFiles('sample1.txt','sample2.txt')"
   ]
  },
  {
   "cell_type": "code",
   "execution_count": 70,
   "id": "8962f733",
   "metadata": {},
   "outputs": [
    {
     "name": "stdout",
     "output_type": "stream",
     "text": [
      "File names should be in a form of string including extension. For example, \"sample1.txt\".\n"
     ]
    }
   ],
   "source": [
    "CombineFiles(1,2)"
   ]
  },
  {
   "cell_type": "code",
   "execution_count": 136,
   "id": "84ea75ba",
   "metadata": {},
   "outputs": [],
   "source": [
    "# Part 1 - updated\n",
    "\n",
    "# adds one line of one content to an empty list (keep the line break)\n",
    "# Repeat it until lines end up in both contents \n",
    "# Save the fully filled list into a form of .txt file \n",
    "\n",
    "def Combine2Files(name1, name2):\n",
    "    if type(name1) and type(name2) == str:\n",
    "        \n",
    "        # By doing this, memory deals with only 3 lines from 3 files at a time\n",
    "        with open(name1,'r') as file1,\\\n",
    "             open(name2,'r') as file2,\\\n",
    "             open('results2.txt','w') as results: \n",
    "            \n",
    "            line1 = file1.readline() # read one line at a time\n",
    "            line2 = file2.readline()\n",
    "            while True:\n",
    "                if line1 and line2:\n",
    "                    if line1 <= line2: # inequality sign works for alphabetical order\n",
    "                        results.write(line1)\n",
    "                        line1 = file1.readline()\n",
    "                    else:\n",
    "                        results.write(line2) # if line2 is earlier, then write line2\n",
    "                        line2 = file2.readline()\n",
    "                        \n",
    "                elif line1: # when only lines in file1 are left, read them all\n",
    "                    results.write(line1)\n",
    "                    line1 = file1.readline()\n",
    "                elif line2: # vice versa\n",
    "                    results.write(line2)\n",
    "                    line2 = file2.readline()\n",
    "                else:\n",
    "                    break # get out from the loop once all done\n",
    "        print('The combined file was generated and named results2.txt.')\n",
    "\n",
    "    elif type(name1) or type(name2) != str:\n",
    "        print('File names should be in a form of string including extension. For example, \"sample1.txt\".')"
   ]
  },
  {
   "cell_type": "code",
   "execution_count": 137,
   "id": "91d8fa72",
   "metadata": {},
   "outputs": [
    {
     "name": "stdout",
     "output_type": "stream",
     "text": [
      "The combined file was generated and named results2.txt.\n"
     ]
    }
   ],
   "source": [
    "Combine2Files('sample1.txt','sample2.txt')"
   ]
  },
  {
   "cell_type": "code",
   "execution_count": 107,
   "id": "322f1675",
   "metadata": {},
   "outputs": [],
   "source": [
    "# Part 3\n",
    "\n",
    "# Let’s suppose the file names should be in a form of list in a txt file \n",
    "# (if the number of files are big enough, not just one or two, they should have been listed in somewhere)\n",
    "# Read the txt file and get the list of the file names \n",
    "# Get the contents of each file using for loop\n",
    "# Append them using for loop\n",
    "\n",
    "def CombineManyFiles(filenames):\n",
    "    if type(filenames) == str:\n",
    "        with open(filenames,'r') as file_list: #open the list of filenames\n",
    "            items = []\n",
    "            for name in file_list:\n",
    "                name = name.strip() #prevent errors from mistakenly including 'n\\' at the end\n",
    "                with open(name,'r') as file: #open each file in the list\n",
    "                    for item in file: \n",
    "                        items.append(item)\n",
    "                        \n",
    "            items.sort() #sort items in alphabetical order\n",
    "                            \n",
    "        with open('manyResults.txt','w') as manyResults:\n",
    "            for item in items:\n",
    "                manyResults.write(item)\n",
    "            print('The combined file was generated and named manyRresults.txt.')\n",
    "\n",
    "    elif type(filenames) != str:\n",
    "        print('File names should be in a form of string including extension. For example, \"sample1.txt\".')\n",
    "\n",
    " "
   ]
  },
  {
   "cell_type": "code",
   "execution_count": 108,
   "id": "a72663f6",
   "metadata": {},
   "outputs": [],
   "source": [
    "# debug: create a sample list of filenames\n",
    "\n",
    "with open('list of file.txt','w') as files:\n",
    "    files.write(\"sample1.txt\\n\")\n",
    "    files.write(\"sample2.txt\\n\")\n",
    "    files.write(\"sample3.txt\\n\")\n",
    "    files.write(\"sample4.txt\\n\")\n",
    "    files.write(\"sample5.txt\\n\")"
   ]
  },
  {
   "cell_type": "code",
   "execution_count": 109,
   "id": "5ef0f878",
   "metadata": {},
   "outputs": [],
   "source": [
    "# create actual files in the list above\n",
    "\n",
    "with open('sample3.txt', 'w') as file3,\\\n",
    "     open('sample4.txt', 'w') as file4,\\\n",
    "     open('sample5.txt', 'w') as file5:\n",
    "        file3.write(\"Whatever\\n\")\n",
    "        \n",
    "        file4.write(\"I\\n\")\n",
    "        file4.write(\"want\\n\")\n",
    "        \n",
    "        file5.write(\"write\\n\")\n",
    "        file5.write(\"down\\n\")\n",
    "        file5.write(\"LOL\\n\")"
   ]
  },
  {
   "cell_type": "code",
   "execution_count": 110,
   "id": "3d4a6dd8",
   "metadata": {},
   "outputs": [
    {
     "name": "stdout",
     "output_type": "stream",
     "text": [
      "The combined file was generated and named manyRresults.txt.\n"
     ]
    }
   ],
   "source": [
    "CombineManyFiles('list of file.txt')"
   ]
  },
  {
   "cell_type": "code",
   "execution_count": 114,
   "id": "a1901d5c",
   "metadata": {},
   "outputs": [],
   "source": [
    "# Edge case\n",
    "\n",
    "# What happens if a file doesn’t exist? \n",
    "# What if the files have different text coding?\n",
    "\n",
    "def CombineManyFiles(filenames):\n",
    "    try:\n",
    "        if type(filenames) == str:\n",
    "\n",
    "            #open the list of filenames with handling different txt codings\n",
    "            with open(filenames, 'r', encoding='utf-8') as file_list: \n",
    "                items = []\n",
    "                for name in file_list:\n",
    "                    name = name.strip() #prevent errors from mistakenly including 'n\\' at the end\n",
    "                    with open(name,'r') as file: #open each file in the list\n",
    "                        for item in file: \n",
    "                            items.append(item)\n",
    "\n",
    "                items.sort() #sort items in alphabetical order\n",
    "\n",
    "            with open('manyResults.txt','w') as manyResults:\n",
    "                for item in items:\n",
    "                    manyResults.write(item)\n",
    "                print('The combined file was generated and named manyRresults.txt.')\n",
    "\n",
    "        elif type(filenames) != str:\n",
    "            print('File names should be in a form of string including extension. For example, \"sample1.txt\".')\n",
    "    \n",
    "    except FileNotFoundError:\n",
    "        print('It seems the file does not exist. Please check it out!') # handling non-exist filenames"
   ]
  },
  {
   "cell_type": "code",
   "execution_count": 115,
   "id": "d0934460",
   "metadata": {},
   "outputs": [
    {
     "name": "stdout",
     "output_type": "stream",
     "text": [
      "It seems the file does not exist. Please check it out!\n"
     ]
    }
   ],
   "source": [
    "CombineManyFiles('empty')"
   ]
  },
  {
   "cell_type": "code",
   "execution_count": null,
   "id": "50b1c671",
   "metadata": {},
   "outputs": [],
   "source": []
  }
 ],
 "metadata": {
  "kernelspec": {
   "display_name": "Python 3 (ipykernel)",
   "language": "python",
   "name": "python3"
  },
  "language_info": {
   "codemirror_mode": {
    "name": "ipython",
    "version": 3
   },
   "file_extension": ".py",
   "mimetype": "text/x-python",
   "name": "python",
   "nbconvert_exporter": "python",
   "pygments_lexer": "ipython3",
   "version": "3.11.3"
  }
 },
 "nbformat": 4,
 "nbformat_minor": 5
}
